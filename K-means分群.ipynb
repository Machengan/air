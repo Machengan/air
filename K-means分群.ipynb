{
 "cells": [
  {
   "cell_type": "code",
   "execution_count": null,
   "id": "e885080e",
   "metadata": {},
   "outputs": [],
   "source": [
    "import pandas as pd\n",
    "import numpy as np \n",
    "from sklearn.cluster import KMeans\n",
    "from itertools import combinations    #分群維度的排列組合\n",
    "import plotly.graph_objects as go"
   ]
  },
  {
   "cell_type": "code",
   "execution_count": null,
   "id": "6f07e6d8",
   "metadata": {},
   "outputs": [],
   "source": [
    "file_name='month1_python'  #file name\n",
    "path = r'C:\\Users\\user\\分群結果/'  #電腦路徑\n",
    "min_cluster = 2  #最小群數\n",
    "max_cluster = 11 #最大群數\n",
    "\n",
    "m01 = pd.read_csv(file_name+'.csv',encoding='big5')\n",
    "m01"
   ]
  },
  {
   "cell_type": "code",
   "execution_count": null,
   "id": "df67e2d9",
   "metadata": {},
   "outputs": [],
   "source": [
    "m001 = m01.rename(columns={'與今年1月日平均差異':'A','與去年1月日平均差異':'B','與今年日平均差異':'C'}) #寫入檔名會比較方便\n",
    "m001"
   ]
  },
  {
   "cell_type": "code",
   "execution_count": null,
   "id": "5e41b424",
   "metadata": {},
   "outputs": [],
   "source": [
    "data = list(m001.columns)   #分群排列組合\n",
    "combin = list([c for i in range(1, len(data)+1) for c in combinations(data, i)])\n",
    "combin"
   ]
  },
  {
   "cell_type": "code",
   "execution_count": null,
   "id": "c74a11a9",
   "metadata": {},
   "outputs": [],
   "source": [
    "permutation = []                #資料轉型\n",
    "for i in range(len(combin)):\n",
    "    permutation.append(list(combin[i]))\n",
    "permutation"
   ]
  },
  {
   "cell_type": "code",
   "execution_count": null,
   "id": "0dfe67e0",
   "metadata": {},
   "outputs": [],
   "source": [
    "for i in range(len(permutation)):\n",
    "    data = m001[permutation[i]]\n",
    "    Silhouette = []\n",
    "    for j in range(min_cluster,max_cluster):\n",
    "        kmeans = KMeans(init='random',n_clusters=j,random_state=0)\n",
    "        kmeans.fit(data)\n",
    "        Silhouette.append(kmeans.inertia_)\n",
    "        if j == 10:\n",
    "            Silhouette_vertify = []\n",
    "            for k in range(len(Silhouette)):\n",
    "                if len(Silhouette) - k != 1:\n",
    "                    Silhouette_vertify.append(Silhouette[k+1] - Silhouette[k])\n",
    "                else:\n",
    "                    Silhouette_vertify.append(Silhouette[k] - Silhouette[k-1])\n",
    "            Silhouette_data = {'輪廓系數':Silhouette,'最佳分群判斷':Silhouette_vertify}\n",
    "            Silhouette_vertify_data = pd.DataFrame(data=Silhouette_data)\n",
    "            Silhouette_vertify_data.to_csv(path+str(permutation[i])+'_輪廓系數'+'.csv', index = False, header=True,encoding='utf-8-sig')\n",
    "    fig = go.Figure(data=go.Scatter(x=list(range(min_cluster,max_cluster)),y=Silhouette))\n",
    "    fig.update_layout(xaxis_title='Number of clusters',yaxis_title='Distortion',font={'size':22,'family':'sans-serif'})\n",
    "    fig.write_image(path+str(permutation[i])+'.png')\n",
    "    for l in range(min_cluster,max_cluster):\n",
    "        kmeans = KMeans(init='random',n_clusters=l,random_state=0)\n",
    "        kmeans.fit(data)\n",
    "        labels = pd.Series(kmeans.labels_,name='cluster_number')\n",
    "        data['分群數量'+str(l)] = labels\n",
    "    data.to_csv(path+str(permutation[i])+'.csv', index = False, header=True,encoding='utf-8-sig')"
   ]
  },
  {
   "cell_type": "code",
   "execution_count": null,
   "id": "b845a143",
   "metadata": {},
   "outputs": [],
   "source": []
  }
 ],
 "metadata": {
  "kernelspec": {
   "display_name": "Python 3 (ipykernel)",
   "language": "python",
   "name": "python3"
  },
  "language_info": {
   "codemirror_mode": {
    "name": "ipython",
    "version": 3
   },
   "file_extension": ".py",
   "mimetype": "text/x-python",
   "name": "python",
   "nbconvert_exporter": "python",
   "pygments_lexer": "ipython3",
   "version": "3.9.7"
  }
 },
 "nbformat": 4,
 "nbformat_minor": 5
}
