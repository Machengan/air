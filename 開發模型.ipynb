{
 "cells": [
  {
   "cell_type": "code",
   "execution_count": null,
   "id": "a47b3bcf",
   "metadata": {},
   "outputs": [],
   "source": [
    "import warnings #忽略警告\n",
    "import pandas as pd\n",
    "import numpy as np\n",
    "import matplotlib.pyplot as plt\n",
    "import tensorflow as tf # 若沒安裝tensorflow，請複製右串：pip install tensorflow\n",
    "from tensorflow.keras.models import Model,Sequential\n",
    "from tensorflow.keras.layers import Dense,LSTM,Dropout,BatchNormalization,TimeDistributed,Flatten,Conv1D,InputLayer\n",
    "from tensorflow.keras import optimizers\n",
    "import os\n",
    "from sklearn.preprocessing import MinMaxScaler # 若沒安裝sklearn，請複製右串：pip install -U scikit-learn / conda install -c conda-forge scikit-learn\n",
    "from tcn import TCN # 若沒安裝TCN，請複製右串：pip install keras-tcn\n",
    "\n",
    "#以下程式碼功能為開啟GPU，開啟前須確認自己電腦有沒有顯卡，另外需在環境裡安裝cudnn、cudatoolkit、tensorflow-gpu\n",
    "#步驟如下：\n",
    "#(1) 在視窗搜尋Anaconda Prompt (anaconda3)\n",
    "#(2) 複製右串：- conda install cudnn=7.4.2\n",
    "#(3) 複製右串：- conda install cudatoolkit=10.0.130\n",
    "#(4) 複製右串：- conda install tensorflow-gpu=1.13.1\n",
    "\n",
    "from tensorflow.python.client import device_lib\n",
    "print(device_lib.list_local_devices()) # 若裝置有顯示GPU，代表可以使用GPU了\n",
    "tf.test.is_gpu_available()\n",
    "tf.config.list_physical_devices('GPU')\n",
    "warnings.filterwarnings('ignore')\n",
    "config = tf.compat.v1.ConfigProto()\n",
    "config.gpu_options.allow_growth = True\n",
    "config.gpu_options.per_process_gpu_memory_fraction = 0.8\n",
    "session = tf.compat.v1.Session(config=config)"
   ]
  },
  {
   "cell_type": "markdown",
   "id": "b2246b40",
   "metadata": {},
   "source": [
    "# 參數設定"
   ]
  },
  {
   "cell_type": "code",
   "execution_count": null,
   "id": "1a4d4e94",
   "metadata": {},
   "outputs": [],
   "source": [
    "n_in = 72*6 #以前72小時去預測PM10\n",
    "n_out = 12*6 #預測未來12小時PM10\n",
    "transfor_to_hour = 12\n",
    "n_vars = 4 #特徵數量\n",
    "tw = 1*6 #時間窗格(shift)\n",
    "cut_time = 5 # 6-1\n",
    "n_neurons = 64 #神經元數量\n",
    "n_batch = 32\n",
    "n_epoch = 100\n",
    "Dp = 0.2 #Dropout\n",
    "learning_rate = 0.001\n",
    "train_proportion = 0.8 #以0.8作為切分訓練集和測試集的依據\n",
    "ST = '麥寮' #空品監測站：麥寮、臺西、崙背，河川揚塵測站：旭光、義賢\n",
    "activation = 'tanh'\n",
    "loss = 'mae' #訓練模型的衡量指標，用來回饋模型修正參數\n",
    "metrics = ['mse'] #訓練模型的評價函數，評估結果不會用來訓練模型\n",
    "opt = tf.keras.optimizers.Adam() #優化器\n",
    "path = os.getcwd()"
   ]
  },
  {
   "cell_type": "code",
   "execution_count": null,
   "id": "495ba111",
   "metadata": {},
   "outputs": [],
   "source": [
    "data = pd.read_csv('D:/'+ST+'(已清洗).csv')"
   ]
  },
  {
   "cell_type": "markdown",
   "id": "af3352cb",
   "metadata": {},
   "source": [
    "# 針對每一小時進行線性插值法"
   ]
  },
  {
   "cell_type": "code",
   "execution_count": null,
   "id": "775b9e48",
   "metadata": {},
   "outputs": [],
   "source": [
    "def ten_mins_pm10(data,start_time,end_time):\n",
    "    pm10_tenmin=[]\n",
    "    wind_speed_tenmin=[]\n",
    "    wind_direc_tenmin=[]\n",
    "    amb_temp_tenmin=[]\n",
    "    rh_tenmin=[]\n",
    "    time = pd.date_range(start=start_time,end=end_time,freq='10min')[:-7]\n",
    "    pm10_2020_np = data.iloc[:,1:].values\n",
    "    for i in range(len(pm10_2020_np)-1):\n",
    "        pm10_ten_min=int((pm10_2020_np[i+1,0]-pm10_2020_np[i,0])/6)\n",
    "        wind_speed_ten_min=int((pm10_2020_np[i+1,1]-pm10_2020_np[i,1])/6)\n",
    "        wind_direc_ten_min=int((pm10_2020_np[i+1,2]-pm10_2020_np[i,2])/6)\n",
    "        amb_temp_ten_min=int((pm10_2020_np[i+1,3]-pm10_2020_np[i,3])/6)\n",
    "        rh_tenmin_ten_min=int((pm10_2020_np[i+1,4]-pm10_2020_np[i,4])/6)\n",
    "        for j in range(6):\n",
    "            pm10_tenmin.append(pm10_2020_np[i,0]+pm10_ten_min*j)\n",
    "            wind_speed_tenmin.append(pm10_2020_np[i,1]+wind_speed_ten_min*j)\n",
    "            wind_direc_tenmin.append(pm10_2020_np[i,2]+wind_direc_ten_min*j)\n",
    "            amb_temp_tenmin.append(pm10_2020_np[i,3]+amb_temp_ten_min*j)\n",
    "            rh_tenmin.append(pm10_2020_np[i,4]+rh_tenmin_ten_min*j)\n",
    "    data = {'Time':list(time),'pm10':pm10_tenmin,'wind_speed':wind_speed_tenmin,'wind_direc':wind_direc_tenmin,'amb_temp':amb_temp_tenmin,'rh':rh_tenmin}\n",
    "    data = pd.DataFrame(data=data)\n",
    "    return data"
   ]
  },
  {
   "cell_type": "code",
   "execution_count": null,
   "id": "3e06fcda",
   "metadata": {},
   "outputs": [],
   "source": [
    "data = ten_mins_pm10(data,'1/1/2020','1/1/2021')\n",
    "data"
   ]
  },
  {
   "cell_type": "markdown",
   "id": "ba81f60f",
   "metadata": {},
   "source": [
    "# 所有特徵資料的分布情形"
   ]
  },
  {
   "cell_type": "code",
   "execution_count": null,
   "id": "df9ce17c",
   "metadata": {},
   "outputs": [],
   "source": [
    "import seaborn as sns\n",
    "\n",
    "data_col = data.columns[1:]\n",
    "for i in range(len(data_col)):\n",
    "    sns.distplot(x=list(data[data_col[i]]),color='green')\n",
    "    plt.title(data_col[i],fontsize=24)\n",
    "    plt.show()\n",
    "    plt.close()"
   ]
  },
  {
   "cell_type": "markdown",
   "id": "24fc6616",
   "metadata": {},
   "source": [
    "# 天氣因子是否要用預報資料 "
   ]
  },
  {
   "cell_type": "code",
   "execution_count": null,
   "id": "267b659e",
   "metadata": {},
   "outputs": [],
   "source": [
    "# 若沒有要使用預報資料，請忽略此行，直接跳到 \"選擇輸入為多/單特徵\" 繼續執行\n",
    "\n",
    "next_time = 12*6 # 未來多長時間的天氣因子當輸入\n",
    "weather_data = data.iloc[next_time:,2:] #\n",
    "weather_data.reset_index(inplace=True)\n",
    "weather_data = weather_data.drop(['index'],axis=1)\n",
    "pm10_data = data[:-next_time]\n",
    "pm10_data.iloc[:,2:] = weather_data.values\n",
    "data = pm10_data\n",
    "data"
   ]
  },
  {
   "cell_type": "markdown",
   "id": "3cf91426",
   "metadata": {},
   "source": [
    "# 選擇輸入為多/單特徵"
   ]
  },
  {
   "cell_type": "code",
   "execution_count": null,
   "id": "a9dd8c6c",
   "metadata": {},
   "outputs": [],
   "source": [
    "def choose_feature(data,one_feature=False,mutiple_feature=False,drop_feature=False,want_to_drop_feature=None): # one_feature 和 mutiple_feature只能有一個為True\n",
    "    if mutiple_feature == True:\n",
    "        if drop_feature == True: # 未必每個特徵都會用到，若drop_feature=True，就必須填入要捨棄掉的特徵\n",
    "            data = data.drop(want_to_drop_feature,axis=1)\n",
    "        feature_data = data.iloc[:,1:]\n",
    "        time = pd.DataFrame(list(data['Time']),columns=['Time'])\n",
    "        output_data = pd.DataFrame(list(data['pm10']),columns=['pm10'])\n",
    "    if one_feature == True:\n",
    "        feature_data = pd.DataFrame(data.loc[:,'pm10'])\n",
    "        time = pd.DataFrame(list(data['Time']),columns=['Time'])\n",
    "        output_data = feature_data\n",
    "    return feature_data,time,output_data # 產出：feature_data(模型input)、time、output_data(模型output)"
   ]
  },
  {
   "cell_type": "code",
   "execution_count": null,
   "id": "b731156f",
   "metadata": {},
   "outputs": [],
   "source": [
    "prepared_data = choose_feature(data,mutiple_feature=True,drop_feature=True,want_to_drop_feature=['wind_direc','amb_temp','rh'])#,drop_feature=True,want_to_drop_feature=['wind_direc'])"
   ]
  },
  {
   "cell_type": "markdown",
   "id": "08b3184a",
   "metadata": {},
   "source": [
    "# 資料正規化/Log"
   ]
  },
  {
   "cell_type": "code",
   "execution_count": null,
   "id": "180fef0b",
   "metadata": {},
   "outputs": [],
   "source": [
    "def model_prepare(intput,output=None,not_process=False,maxmin_process=False,log_process=False):\n",
    "    if not_process == True: # 資料不進行處理\n",
    "        intput = intput.values\n",
    "        output = output.values\n",
    "        scaler1 = None\n",
    "    if maxmin_process == True: # 正規化\n",
    "        intput = intput.values\n",
    "        intput = intput.astype('float64')\n",
    "        scaler = MinMaxScaler(feature_range=(0, 1))\n",
    "        intput = scaler.fit_transform(intput)\n",
    "        output = output.values\n",
    "        output = output.astype('float64')\n",
    "        scaler1 = MinMaxScaler(feature_range=(0, 1))\n",
    "        output = scaler1.fit_transform(output)\n",
    "    if log_process == True: # 當log_process=True時，output必須為None\n",
    "        data_col = intput.columns\n",
    "        for i in range(len(data_col)):\n",
    "            for j in range(len(intput)): #資料轉log\n",
    "                if intput.loc[j,data_col[i]] != 0:\n",
    "                    intput.loc[j,data_col[i]] = np.log(intput.loc[j,data_col[i]])\n",
    "        output = pd.DataFrame(intput.loc[:,'pm10']).values\n",
    "        intput = intput.values\n",
    "        scaler1 = None\n",
    "    return intput,output,scaler1 # 產出：intput,output,scaler1(MinMaxScaler正規化壓縮器)"
   ]
  },
  {
   "cell_type": "code",
   "execution_count": null,
   "id": "3b033960",
   "metadata": {},
   "outputs": [],
   "source": [
    "prepare_data = model_prepare(prepared_data[0],prepared_data[2],not_process=True)"
   ]
  },
  {
   "cell_type": "markdown",
   "id": "e5cb86a8",
   "metadata": {},
   "source": [
    "# 時間切割"
   ]
  },
  {
   "cell_type": "code",
   "execution_count": null,
   "id": "7b28df19",
   "metadata": {},
   "outputs": [],
   "source": [
    "X=[]\n",
    "Y=[]\n",
    "T=[]\n",
    "\n",
    "for i in range(n_in,len(prepare_data[1]),tw): #模型輸出(Y)的時間切割\n",
    "    if len(prepare_data[1][i:i+n_out-cut_time]) == n_out-cut_time:\n",
    "        Y.append(prepare_data[1][i:i+n_out-cut_time])\n",
    "        T.append(choose_feature(data,mutiple_feature=True)[1][i:i+n_out-cut_time])\n",
    "for i in range(0,len(prepare_data[0]),tw): #模型輸入(X)的時間切割\n",
    "    if len(prepare_data[0][i:i+n_in-cut_time]) == n_in-cut_time:\n",
    "        X.append(prepare_data[0][i:i+n_in-cut_time])\n",
    "X = np.array(X)\n",
    "X = X[:len(Y)] #由於在時間切割上有額外設置時間窗格進行移動，會導致X和Y資料數量不一致，所以以Y數量為主\n",
    "Y = np.array(Y)\n",
    "n_train = round(X.shape[0]*train_proportion)\n",
    "Xtest_time = T[n_train:]\n",
    "X_test_time = np.array(Xtest_time)\n",
    "X_test_time = np.reshape(X_test_time,(X_test_time.shape[0],X_test_time.shape[1]))\n",
    "train_X,test_X = X[:n_train],X[n_train:]\n",
    "train_y,test_y = Y[:n_train],Y[n_train:]"
   ]
  },
  {
   "cell_type": "code",
   "execution_count": null,
   "id": "e01f734d",
   "metadata": {},
   "outputs": [],
   "source": [
    "train_XX = train_X\n",
    "test_XX = test_X\n",
    "train_yy = train_y\n",
    "test_yy = test_y"
   ]
  },
  {
   "cell_type": "markdown",
   "id": "5aaf2435",
   "metadata": {},
   "source": [
    "# model_1：LSTM+TimeDistributed"
   ]
  },
  {
   "cell_type": "code",
   "execution_count": null,
   "id": "f0d902a9",
   "metadata": {},
   "outputs": [],
   "source": [
    "model_1 = Sequential()\n",
    "model_1.add(LSTM(units = n_neurons,activation=activation,return_sequences=True,input_shape=(train_XX.shape[1], train_XX.shape[2])))\n",
    "model_1.add(Dropout(Dp))\n",
    "model_1.add(LSTM(units = n_neurons,activation=activation,return_sequences=True))\n",
    "model_1.add(BatchNormalization())\n",
    "model_1.add(Dense(train_yy.shape[-2]))\n",
    "model_1.add(TimeDistributed(Dense(1, activation='relu')))\n",
    "model_1.add(Flatten())\n",
    "model_1.add(Dense(train_yy.shape[-2]))\n",
    "model_1.compile(loss=loss,optimizer=opt,metrics=metrics)\n",
    "model_1.summary()\n",
    "history = model_1.fit(train_XX, train_yy, epochs=n_epoch, batch_size=n_batch, verbose=1,shuffle=False)"
   ]
  },
  {
   "cell_type": "code",
   "execution_count": null,
   "id": "591840c9",
   "metadata": {},
   "outputs": [],
   "source": [
    "def model_inverse(train_XX,train_yy,test_XX,test_yy,model,scaler1=None,not_process=False,maxmin_process=False,log_process=False):\n",
    "    pred_train_data = model.predict(train_XX)\n",
    "    pred_test_data = model.predict(test_XX)\n",
    "    trainy = []\n",
    "    testy = []\n",
    "    for i in range(len(train_yy)):\n",
    "        trainy.append(train_yy[i].flatten())\n",
    "    for i in range(len(test_yy)):\n",
    "        testy.append(test_yy[i].flatten()) \n",
    "    train_yy = trainy\n",
    "    train_yy = np.array(train_yy)\n",
    "    test_yy = testy\n",
    "    test_yy = np.array(test_yy)\n",
    "    if not_process == True:\n",
    "        pass\n",
    "    if maxmin_process == True: # 當maxmin_scaler=True時，必須輸入scaler1\n",
    "        scale_new = MinMaxScaler()\n",
    "        scale_new.min_, scale_new.scale_ = scaler1.min_[0], scaler1.scale_[0]\n",
    "        pred_train_data = scale_new.inverse_transform(pred_train_data)\n",
    "        pred_test_data = scale_new.inverse_transform(pred_test_data)\n",
    "        train_yy = scale_new.inverse_transform(train_yy)\n",
    "        test_yy = scale_new.inverse_transform(test_yy)\n",
    "    if log_process == True:\n",
    "        for i in range(train_yy.shape[0]):\n",
    "            for j in range(train_yy.shape[1]):\n",
    "                if train_yy[i][j] != 0:\n",
    "                    train_yy[i][j] = np.exp(train_yy[i][j])\n",
    "                if pred_train_data[i][j] != 0:\n",
    "                    pred_train_data[i][j] = np.exp(pred_train_data[i][j])\n",
    "        for i in range(test_yy.shape[0]):\n",
    "            for j in range(test_yy.shape[1]):\n",
    "                if test_yy[i][j] != 0:\n",
    "                    test_yy[i][j] = np.exp(test_yy[i][j])\n",
    "                if pred_test_data[i][j] != 0:\n",
    "                    pred_test_data[i][j] = np.exp(pred_test_data[i][j])\n",
    "    return train_yy,test_yy,pred_train_data,pred_test_data"
   ]
  },
  {
   "cell_type": "code",
   "execution_count": null,
   "id": "f366d1f3",
   "metadata": {},
   "outputs": [],
   "source": [
    "image = model_inverse(train_XX,train_yy,test_XX,test_yy,model_1,prepare_data[2],maxmin_process=True) # 改模型參數"
   ]
  },
  {
   "cell_type": "code",
   "execution_count": null,
   "id": "96373465",
   "metadata": {},
   "outputs": [],
   "source": [
    "# 10 min\n",
    "number = np.random.randint(image[1].shape[-1])\n",
    "plt.figure(figsize=(5,5))\n",
    "plt.plot(image[1].T[number])\n",
    "plt.plot(image[3].T[number])\n",
    "plt.title('Testing',fontproperties=\"SimSun\",fontsize=24)\n",
    "# plt.savefig('D:\\績效圖/'+ST+'_預測未來'+str(int(n_out/6))+'小時(Testing)(not_process)(TCN).png')\n",
    "plt.show()\n",
    "plt.close()"
   ]
  },
  {
   "cell_type": "code",
   "execution_count": null,
   "id": "d00e52f5",
   "metadata": {},
   "outputs": [],
   "source": [
    "pm10_10_act = image[1]\n",
    "pm10_10_pred = image[3]\n",
    "\n",
    "rmse = []\n",
    "mape = []\n",
    "\n",
    "for i in range(pm10_10_act.shape[0]):\n",
    "    for j in range(pm10_10_act.shape[1]):\n",
    "        rmse.append((pm10_10_pred[i][j]-pm10_10_act[i][j])**2)\n",
    "        if pm10_10_act[i][j] == 0:\n",
    "            mape.append(abs(pm10_10_pred[i][j]-pm10_10_act[i][j]))\n",
    "        else:\n",
    "            mape.append(abs((pm10_10_pred[i][j]-pm10_10_act[i][j])/pm10_10_act[i][j]))\n",
    "            \n",
    "rmse = np.sqrt(np.mean(rmse))\n",
    "mape = np.mean(mape)*100\n",
    "\n",
    "print('RMSE:'+str(rmse))\n",
    "print('MAPE:'+str(mape))"
   ]
  },
  {
   "cell_type": "code",
   "execution_count": null,
   "id": "f4885b11",
   "metadata": {},
   "outputs": [],
   "source": [
    "data1 = pd.read_csv('D:/'+ST+'(已清洗).csv')\n",
    "time = pd.date_range(start='1/1/2020',end='1/1/2021',freq='H')[:-1]\n",
    "data1['Time'] = time\n",
    "\n",
    "num = []\n",
    "for i in range(len(X_test_time[0])):\n",
    "    for j in range(len(data1)):\n",
    "        if data1.loc[j,'Time'] == X_test_time[0][i]:\n",
    "            num.append(j)\n",
    "            break\n",
    "num = num[0]\n",
    "\n",
    "data2 = data1[num:]\n",
    "data2.reset_index(inplace=True)\n",
    "data2 = data2.drop(['index'],axis=1)\n",
    "data2_time = list(data2['Time'])\n",
    "\n",
    "a1 = []\n",
    "b1 = []\n",
    "c1 = []\n",
    "for i in range(image[1].shape[0]):\n",
    "    for j in range(0,image[1].shape[1],tw):\n",
    "        if j == 0:\n",
    "            a1.append(X_test_time[i][j])\n",
    "            b1.append(image[1][i][j])\n",
    "            c1.append(image[3][i][j])\n",
    "        else:\n",
    "            a1.append(X_test_time[i][j])\n",
    "            b1.append(np.mean(image[1][i][j-tw:j]))\n",
    "            c1.append(np.mean(image[3][i][j-tw:j]))\n",
    "\n",
    "act1 = np.array(b1)\n",
    "pred1 = np.array(c1)\n",
    "transfor_act1 = np.reshape(act1,(int(len(act1)/transfor_to_hour),transfor_to_hour))\n",
    "transfor_pred1 = np.reshape(pred1,(int(len(pred1)/transfor_to_hour),transfor_to_hour))"
   ]
  },
  {
   "cell_type": "code",
   "execution_count": null,
   "id": "28c7c75d",
   "metadata": {},
   "outputs": [],
   "source": [
    "# 平均1小時\n",
    "number = np.random.randint(transfor_act1.shape[-1])\n",
    "plt.figure(figsize=(5,5))\n",
    "plt.plot(transfor_act1.T[number])\n",
    "plt.plot(transfor_pred1.T[number])\n",
    "plt.title('Testing',fontproperties=\"SimSun\",fontsize=24)\n",
    "# plt.savefig('D:\\績效圖/'+ST+'_預測未來'+str(int(n_out/6))+'小時(Testing)(not_process)(TCN).png')\n",
    "plt.show()\n",
    "plt.close()"
   ]
  },
  {
   "cell_type": "code",
   "execution_count": null,
   "id": "86d2d8a6",
   "metadata": {},
   "outputs": [],
   "source": [
    "# RMSE公式：np.sqrt(np.mean((預測值-實際值)^2))\n",
    "# MAPE公式：100*(np.mean(abs((預測值-實際值)/實際值)))\n",
    "\n",
    "rmse = []\n",
    "mape = []\n",
    "\n",
    "for i in range(transfor_act1.shape[0]-1):\n",
    "    for j in range(transfor_act1.shape[1]):\n",
    "        rmse.append((transfor_pred1[i][j]-transfor_act1[i][j])**2)\n",
    "        if transfor_act1[i][j] == 0:\n",
    "            mape.append(abs(transfor_pred1[i][j]-transfor_act1[i][j]))\n",
    "        else:\n",
    "            mape.append(abs((transfor_pred1[i][j]-transfor_act1[i][j])/transfor_act1[i][j]))\n",
    "            \n",
    "rmse = np.sqrt(np.mean(rmse))\n",
    "mape = np.mean(mape)*100\n",
    "\n",
    "print('RMSE:'+str(rmse))\n",
    "print('MAPE:'+str(mape))"
   ]
  },
  {
   "cell_type": "code",
   "execution_count": null,
   "id": "079e6c64",
   "metadata": {},
   "outputs": [],
   "source": [
    "a = []\n",
    "b = []\n",
    "c = []\n",
    "for i in range(image[1].shape[0]):\n",
    "    for j in range(0,image[1].shape[1],tw):\n",
    "        a.append(X_test_time[i][j])\n",
    "        b.append(image[1][i][j])\n",
    "        c.append(image[3][i][j])\n",
    "\n",
    "act = np.array(b)\n",
    "pred = np.array(c)\n",
    "transfor_act = np.reshape(act,(int(len(act)/transfor_to_hour),transfor_to_hour))\n",
    "transfor_pred = np.reshape(pred,(int(len(pred)/transfor_to_hour),transfor_to_hour))"
   ]
  },
  {
   "cell_type": "code",
   "execution_count": null,
   "id": "f8257b90",
   "metadata": {},
   "outputs": [],
   "source": [
    "def make_plot(train_yy,test_yy,pred_train_data,pred_test_data):\n",
    "    number = np.random.randint(test_yy.shape[-1])\n",
    "    plt.figure(figsize=(5,5))\n",
    "    plt.plot(train_yy.T[number])\n",
    "    plt.plot(pred_train_data.T[number])\n",
    "    plt.title('Training',fontproperties=\"SimSun\",fontsize=24)\n",
    "    plt.savefig('D:\\績效圖/'+ST+'_預測未來'+str(int(n_out/6))+'小時(Training)(maxmin_process)(LSTM).png')\n",
    "    plt.show()\n",
    "    plt.close()\n",
    "    plt.figure(figsize=(5,5))\n",
    "    plt.plot(test_yy.T[number])\n",
    "    plt.plot(pred_test_data.T[number])\n",
    "    plt.title('Testing',fontproperties=\"SimSun\",fontsize=24)\n",
    "    plt.savefig('D:\\績效圖/'+ST+'_預測未來'+str(int(n_out/6))+'小時(Testing)(maxmin_process)(LSTM).png')\n",
    "    plt.show()\n",
    "    plt.close()"
   ]
  },
  {
   "cell_type": "code",
   "execution_count": null,
   "id": "32ccf75e",
   "metadata": {},
   "outputs": [],
   "source": [
    "make_plot(image[0],transfor_act,image[2],transfor_pred)"
   ]
  },
  {
   "cell_type": "code",
   "execution_count": null,
   "id": "3205badb",
   "metadata": {},
   "outputs": [],
   "source": [
    "# RMSE公式：np.sqrt(np.mean((預測值-實際值)^2))\n",
    "# MAPE公式：100*(np.mean(abs((預測值-實際值)/實際值)))\n",
    "\n",
    "rmse = []\n",
    "mape = []\n",
    "\n",
    "for i in range(transfor_act.shape[0]):\n",
    "    for j in range(transfor_act.shape[1]):\n",
    "        rmse.append((transfor_pred[i][j]-transfor_act[i][j])**2)\n",
    "        if transfor_act[i][j] == 0:\n",
    "            mape.append(abs(transfor_pred[i][j]-transfor_act[i][j]))\n",
    "        else:\n",
    "            mape.append(abs((transfor_pred[i][j]-transfor_act[i][j])/transfor_act[i][j]))\n",
    "            \n",
    "rmse = np.sqrt(np.mean(rmse))\n",
    "mape = np.mean(mape)*100\n",
    "\n",
    "print('RMSE:'+str(rmse))\n",
    "print('MAPE:'+str(mape))"
   ]
  },
  {
   "cell_type": "markdown",
   "id": "f1f9c155",
   "metadata": {},
   "source": [
    "# model_2：Conv1D"
   ]
  },
  {
   "cell_type": "code",
   "execution_count": null,
   "id": "4b159b8a",
   "metadata": {},
   "outputs": [],
   "source": [
    "train_XX = train_X\n",
    "test_XX = test_X\n",
    "train_yy = train_y\n",
    "test_yy = test_y"
   ]
  },
  {
   "cell_type": "code",
   "execution_count": null,
   "id": "5bec9b46",
   "metadata": {},
   "outputs": [],
   "source": [
    "model_2=Sequential()\n",
    "model_2.add(InputLayer(input_shape=(train_XX.shape[1], train_XX.shape[2])))\n",
    "for rate in (1,2,4,8)*2:\n",
    "    model_2.add(Conv1D(filters=24, kernel_size=2, padding='causal', activation='relu', dilation_rate=rate))\n",
    "model_2.add(Conv1D(filters=10, kernel_size=1))\n",
    "model_2.add(Flatten())\n",
    "model_2.add(Dense(train_yy.shape[-2]))\n",
    "model_2.compile(loss=loss,optimizer=opt,metrics=metrics)\n",
    "model_2.summary()\n",
    "history = model_2.fit(train_XX, train_yy, epochs=n_epoch, batch_size=n_batch, verbose=1,shuffle=False)"
   ]
  },
  {
   "cell_type": "code",
   "execution_count": null,
   "id": "6f872659",
   "metadata": {},
   "outputs": [],
   "source": [
    "image = model_inverse(train_XX,train_yy,test_XX,test_yy,model_2,prepare_data[2],maxmin_process=True) # 改模型參數"
   ]
  },
  {
   "cell_type": "code",
   "execution_count": null,
   "id": "40c364d5",
   "metadata": {},
   "outputs": [],
   "source": [
    "# 10 min\n",
    "number = np.random.randint(image[1].shape[-1])\n",
    "plt.figure(figsize=(5,5))\n",
    "plt.plot(image[1].T[number])\n",
    "plt.plot(image[3].T[number])\n",
    "plt.title('Testing',fontproperties=\"SimSun\",fontsize=24)\n",
    "# plt.savefig('D:\\績效圖/'+ST+'_預測未來'+str(int(n_out/6))+'小時(Testing)(not_process)(TCN).png')\n",
    "plt.show()\n",
    "plt.close()"
   ]
  },
  {
   "cell_type": "code",
   "execution_count": null,
   "id": "921eb53b",
   "metadata": {},
   "outputs": [],
   "source": [
    "pm10_10_act = image[1]\n",
    "pm10_10_pred = image[3]\n",
    "\n",
    "rmse = []\n",
    "mape = []\n",
    "\n",
    "for i in range(pm10_10_act.shape[0]):\n",
    "    for j in range(pm10_10_act.shape[1]):\n",
    "        rmse.append((pm10_10_pred[i][j]-pm10_10_act[i][j])**2)\n",
    "        if pm10_10_act[i][j] == 0:\n",
    "            mape.append(abs(pm10_10_pred[i][j]-pm10_10_act[i][j]))\n",
    "        else:\n",
    "            mape.append(abs((pm10_10_pred[i][j]-pm10_10_act[i][j])/pm10_10_act[i][j]))\n",
    "            \n",
    "rmse = np.sqrt(np.mean(rmse))\n",
    "mape = np.mean(mape)*100\n",
    "\n",
    "print('RMSE:'+str(rmse))\n",
    "print('MAPE:'+str(mape))"
   ]
  },
  {
   "cell_type": "code",
   "execution_count": null,
   "id": "020d8873",
   "metadata": {},
   "outputs": [],
   "source": [
    "data1 = pd.read_csv('D:/'+ST+'(已清洗).csv')\n",
    "time = pd.date_range(start='1/1/2020',end='1/1/2021',freq='H')[:-1]\n",
    "data1['Time'] = time\n",
    "\n",
    "num = []\n",
    "for i in range(len(X_test_time[0])):\n",
    "    for j in range(len(data1)):\n",
    "        if data1.loc[j,'Time'] == X_test_time[0][i]:\n",
    "            num.append(j)\n",
    "            break\n",
    "num = num[0]\n",
    "\n",
    "data2 = data1[num:]\n",
    "data2.reset_index(inplace=True)\n",
    "data2 = data2.drop(['index'],axis=1)\n",
    "data2_time = list(data2['Time'])\n",
    "\n",
    "a1 = []\n",
    "b1 = []\n",
    "c1 = []\n",
    "for i in range(image[1].shape[0]):\n",
    "    for j in range(0,image[1].shape[1],tw):\n",
    "        if j == 0:\n",
    "            a1.append(X_test_time[i][j])\n",
    "            b1.append(image[1][i][j])\n",
    "            c1.append(image[3][i][j])\n",
    "        else:\n",
    "            a1.append(X_test_time[i][j])\n",
    "            b1.append(np.mean(image[1][i][j-tw:j]))\n",
    "            c1.append(np.mean(image[3][i][j-tw:j]))\n",
    "\n",
    "act1 = np.array(b1)\n",
    "pred1 = np.array(c1)\n",
    "transfor_act1 = np.reshape(act1,(int(len(act1)/transfor_to_hour),transfor_to_hour))\n",
    "transfor_pred1 = np.reshape(pred1,(int(len(pred1)/transfor_to_hour),transfor_to_hour))"
   ]
  },
  {
   "cell_type": "code",
   "execution_count": null,
   "id": "8ee26fd1",
   "metadata": {},
   "outputs": [],
   "source": [
    "# 平均1小時\n",
    "number = np.random.randint(transfor_act1.shape[-1])\n",
    "plt.figure(figsize=(5,5))\n",
    "plt.plot(transfor_act1.T[number])\n",
    "plt.plot(transfor_pred1.T[number])\n",
    "plt.title('Testing',fontproperties=\"SimSun\",fontsize=24)\n",
    "# plt.savefig('D:\\績效圖/'+ST+'_預測未來'+str(int(n_out/6))+'小時(Testing)(not_process)(TCN).png')\n",
    "plt.show()\n",
    "plt.close()"
   ]
  },
  {
   "cell_type": "code",
   "execution_count": null,
   "id": "2881cccb",
   "metadata": {},
   "outputs": [],
   "source": [
    "# RMSE公式：np.sqrt(np.mean((預測值-實際值)^2))\n",
    "# MAPE公式：100*(np.mean(abs((預測值-實際值)/實際值)))\n",
    "\n",
    "rmse = []\n",
    "mape = []\n",
    "\n",
    "for i in range(transfor_act1.shape[0]-1):\n",
    "    for j in range(transfor_act1.shape[1]):\n",
    "        rmse.append((transfor_pred1[i][j]-transfor_act1[i][j])**2)\n",
    "        if transfor_act1[i][j] == 0:\n",
    "            mape.append(abs(transfor_pred1[i][j]-transfor_act1[i][j]))\n",
    "        else:\n",
    "            mape.append(abs((transfor_pred1[i][j]-transfor_act1[i][j])/transfor_act1[i][j]))\n",
    "            \n",
    "rmse = np.sqrt(np.mean(rmse))\n",
    "mape = np.mean(mape)*100\n",
    "\n",
    "print('RMSE:'+str(rmse))\n",
    "print('MAPE:'+str(mape))"
   ]
  },
  {
   "cell_type": "code",
   "execution_count": null,
   "id": "3bd87d31",
   "metadata": {},
   "outputs": [],
   "source": [
    "a = []\n",
    "b = []\n",
    "c = []\n",
    "for i in range(image[1].shape[0]):\n",
    "    for j in range(0,image[1].shape[1],tw):\n",
    "        a.append(X_test_time[i][j])\n",
    "        b.append(image[1][i][j])\n",
    "        c.append(image[3][i][j])\n",
    "\n",
    "act = np.array(b)\n",
    "pred = np.array(c)\n",
    "transfor_act = np.reshape(act,(int(len(act)/transfor_to_hour),transfor_to_hour))\n",
    "transfor_pred = np.reshape(pred,(int(len(pred)/transfor_to_hour),transfor_to_hour))"
   ]
  },
  {
   "cell_type": "code",
   "execution_count": null,
   "id": "be1461fd",
   "metadata": {},
   "outputs": [],
   "source": [
    "def make_plot(train_yy,test_yy,pred_train_data,pred_test_data):\n",
    "    number = np.random.randint(test_yy.shape[-1])\n",
    "    plt.figure(figsize=(5,5))\n",
    "    plt.plot(train_yy.T[number])\n",
    "    plt.plot(pred_train_data.T[number])\n",
    "    plt.title('Training',fontproperties=\"SimSun\",fontsize=24)\n",
    "    plt.savefig('D:\\績效圖/'+ST+'_預測未來'+str(int(n_out/6))+'小時(Training)(maxmin_process)(Conv1D).png')\n",
    "    plt.show()\n",
    "    plt.close()\n",
    "    plt.figure(figsize=(5,5))\n",
    "    plt.plot(test_yy.T[number])\n",
    "    plt.plot(pred_test_data.T[number])\n",
    "    plt.title('Testing',fontproperties=\"SimSun\",fontsize=24)\n",
    "    plt.savefig('D:\\績效圖/'+ST+'_預測未來'+str(int(n_out/6))+'小時(Testing)(maxmin_process)(Conv1D).png')\n",
    "    plt.show()\n",
    "    plt.close()"
   ]
  },
  {
   "cell_type": "code",
   "execution_count": null,
   "id": "96b1eaf5",
   "metadata": {},
   "outputs": [],
   "source": [
    "make_plot(image[0],transfor_act,image[2],transfor_pred)"
   ]
  },
  {
   "cell_type": "code",
   "execution_count": null,
   "id": "9d82a7c5",
   "metadata": {},
   "outputs": [],
   "source": [
    "# RMSE公式：np.sqrt(np.mean((預測值-實際值)^2))\n",
    "# MAPE公式：100*(np.mean(abs((預測值-實際值)/實際值)))\n",
    "\n",
    "rmse = []\n",
    "mape = []\n",
    "\n",
    "for i in range(transfor_act.shape[0]):\n",
    "    for j in range(transfor_act.shape[1]):\n",
    "        rmse.append((transfor_pred[i][j]-transfor_act[i][j])**2)\n",
    "        if transfor_act[i][j] == 0:\n",
    "            mape.append(abs(transfor_pred[i][j]-transfor_act[i][j]))\n",
    "        else:\n",
    "            mape.append(abs((transfor_pred[i][j]-transfor_act[i][j])/transfor_act[i][j]))\n",
    "            \n",
    "rmse = np.sqrt(np.mean(rmse))\n",
    "mape = np.mean(mape)*100\n",
    "\n",
    "print('RMSE:'+str(rmse))\n",
    "print('MAPE:'+str(mape))"
   ]
  },
  {
   "cell_type": "markdown",
   "id": "05290fce",
   "metadata": {},
   "source": [
    "# model_3：TCN"
   ]
  },
  {
   "cell_type": "code",
   "execution_count": null,
   "id": "0e0dd104",
   "metadata": {},
   "outputs": [],
   "source": [
    "train_XX = train_X\n",
    "test_XX = test_X\n",
    "train_yy = train_y\n",
    "test_yy = test_y"
   ]
  },
  {
   "cell_type": "code",
   "execution_count": null,
   "id": "57bd9541",
   "metadata": {},
   "outputs": [],
   "source": [
    "model_3 = Sequential([TCN(input_shape=(train_XX.shape[1], train_XX.shape[2]),nb_filters=256, return_sequences=True, dilations=[1, 2, 4, 8, 16, 32]),\n",
    "        Dense(1)])#use_batch_norm=False,use_layer_norm=False,use_weight_norm=False, dropout_rate=0.3,\n",
    "model_3.add(Flatten())\n",
    "model_3.add(Dense(train_yy.shape[-2]))\n",
    "model_3.compile(optimizer=\"adam\", loss=\"mse\",metrics=tf.keras.metrics.MeanAbsoluteError())\n",
    "model_3.summary()\n",
    "history = model_3.fit(train_XX, train_yy, epochs=n_epoch, batch_size=n_batch, verbose=1,shuffle=False)"
   ]
  },
  {
   "cell_type": "code",
   "execution_count": null,
   "id": "2a6fba00",
   "metadata": {},
   "outputs": [],
   "source": [
    "image = model_inverse(train_XX,train_yy,test_XX,test_yy,model_3,not_process=True) # 改模型參數 ,prepare_data[2]"
   ]
  },
  {
   "cell_type": "code",
   "execution_count": null,
   "id": "9e95d93a",
   "metadata": {},
   "outputs": [],
   "source": [
    "# 10 min\n",
    "number = np.random.randint(image[1].shape[-1])\n",
    "plt.figure(figsize=(5,5))\n",
    "plt.plot(image[1].T[number])\n",
    "plt.plot(image[3].T[number])\n",
    "plt.title('Testing',fontproperties=\"SimSun\",fontsize=24)\n",
    "# plt.savefig('D:\\績效圖/'+ST+'_預測未來'+str(int(n_out/6))+'小時(Testing)(not_process)(TCN).png')\n",
    "plt.show()\n",
    "plt.close()"
   ]
  },
  {
   "cell_type": "code",
   "execution_count": null,
   "id": "b10ac9fb",
   "metadata": {},
   "outputs": [],
   "source": [
    "pm10_10_act = image[1]\n",
    "pm10_10_pred = image[3]\n",
    "\n",
    "rmse = []\n",
    "mape = []\n",
    "\n",
    "for i in range(pm10_10_act.shape[0]):\n",
    "    for j in range(pm10_10_act.shape[1]):\n",
    "        rmse.append((pm10_10_pred[i][j]-pm10_10_act[i][j])**2)\n",
    "        if pm10_10_act[i][j] == 0:\n",
    "            mape.append(abs(pm10_10_pred[i][j]-pm10_10_act[i][j]))\n",
    "        else:\n",
    "            mape.append(abs((pm10_10_pred[i][j]-pm10_10_act[i][j])/pm10_10_act[i][j]))\n",
    "            \n",
    "rmse = np.sqrt(np.mean(rmse))\n",
    "mape = np.mean(mape)*100\n",
    "\n",
    "print('RMSE:'+str(rmse))\n",
    "print('MAPE:'+str(mape))"
   ]
  },
  {
   "cell_type": "code",
   "execution_count": null,
   "id": "f4b5bac3",
   "metadata": {},
   "outputs": [],
   "source": [
    "data1 = pd.read_csv('D:/'+ST+'(已清洗).csv')\n",
    "time = pd.date_range(start='1/1/2020',end='1/1/2021',freq='H')[:-1]\n",
    "data1['Time'] = time\n",
    "\n",
    "num = []\n",
    "for i in range(len(X_test_time[0])):\n",
    "    for j in range(len(data1)):\n",
    "        if data1.loc[j,'Time'] == X_test_time[0][i]:\n",
    "            num.append(j)\n",
    "            break\n",
    "num = num[0]\n",
    "\n",
    "data2 = data1[num:]\n",
    "data2.reset_index(inplace=True)\n",
    "data2 = data2.drop(['index'],axis=1)\n",
    "data2_time = list(data2['Time'])\n",
    "\n",
    "a1 = []\n",
    "b1 = []\n",
    "c1 = []\n",
    "for i in range(image[1].shape[0]):\n",
    "    for j in range(0,image[1].shape[1],tw):\n",
    "        if j == 0:\n",
    "            a1.append(X_test_time[i][j])\n",
    "            b1.append(image[1][i][j])\n",
    "            c1.append(image[3][i][j])\n",
    "        else:\n",
    "            a1.append(X_test_time[i][j])\n",
    "            b1.append(np.mean(image[1][i][j-tw:j]))\n",
    "            c1.append(np.mean(image[3][i][j-tw:j]))\n",
    "\n",
    "act1 = np.array(b1)\n",
    "pred1 = np.array(c1)\n",
    "transfor_act1 = np.reshape(act1,(int(len(act1)/transfor_to_hour),transfor_to_hour))\n",
    "transfor_pred1 = np.reshape(pred1,(int(len(pred1)/transfor_to_hour),transfor_to_hour))"
   ]
  },
  {
   "cell_type": "code",
   "execution_count": null,
   "id": "d2b34c53",
   "metadata": {},
   "outputs": [],
   "source": [
    "# 平均1小時\n",
    "number = np.random.randint(transfor_act1.shape[-1])\n",
    "plt.figure(figsize=(5,5))\n",
    "plt.plot(transfor_act1.T[number])\n",
    "plt.plot(transfor_pred1.T[number])\n",
    "plt.title('Testing',fontproperties=\"SimSun\",fontsize=24)\n",
    "# plt.savefig('D:\\績效圖/'+ST+'_預測未來'+str(int(n_out/6))+'小時(Testing)(not_process)(TCN).png')\n",
    "plt.show()\n",
    "plt.close()"
   ]
  },
  {
   "cell_type": "code",
   "execution_count": null,
   "id": "6c123f01",
   "metadata": {},
   "outputs": [],
   "source": [
    "# RMSE公式：np.sqrt(np.mean((預測值-實際值)^2))\n",
    "# MAPE公式：100*(np.mean(abs((預測值-實際值)/實際值)))\n",
    "\n",
    "rmse = []\n",
    "mape = []\n",
    "\n",
    "for i in range(transfor_act1.shape[0]-1):\n",
    "    for j in range(transfor_act1.shape[1]):\n",
    "        rmse.append((transfor_pred1[i][j]-transfor_act1[i][j])**2)\n",
    "        if transfor_act1[i][j] == 0:\n",
    "            mape.append(abs(transfor_pred1[i][j]-transfor_act1[i][j]))\n",
    "        else:\n",
    "            mape.append(abs((transfor_pred1[i][j]-transfor_act1[i][j])/transfor_act1[i][j]))\n",
    "            \n",
    "rmse = np.sqrt(np.mean(rmse))\n",
    "mape = np.mean(mape)*100\n",
    "\n",
    "print('RMSE:'+str(rmse))\n",
    "print('MAPE:'+str(mape))"
   ]
  },
  {
   "cell_type": "code",
   "execution_count": null,
   "id": "535b57b4",
   "metadata": {},
   "outputs": [],
   "source": [
    "a = []\n",
    "b = []\n",
    "c = []\n",
    "for i in range(image[1].shape[0]):\n",
    "    for j in range(0,image[1].shape[1],tw):\n",
    "        a.append(X_test_time[i][j])\n",
    "        b.append(image[1][i][j])\n",
    "        c.append(image[3][i][j])\n",
    "\n",
    "act = np.array(b)\n",
    "pred = np.array(c)\n",
    "transfor_act = np.reshape(act,(int(len(act)/transfor_to_hour),transfor_to_hour))\n",
    "transfor_pred = np.reshape(pred,(int(len(pred)/transfor_to_hour),transfor_to_hour))"
   ]
  },
  {
   "cell_type": "code",
   "execution_count": null,
   "id": "b529b942",
   "metadata": {},
   "outputs": [],
   "source": [
    "def make_plot(train_yy,test_yy,pred_train_data,pred_test_data):\n",
    "    number = np.random.randint(test_yy.shape[-1])\n",
    "    plt.figure(figsize=(5,5))\n",
    "    plt.plot(train_yy.T[number])\n",
    "    plt.plot(pred_train_data.T[number])\n",
    "    plt.title('Training',fontproperties=\"SimSun\",fontsize=24)\n",
    "    plt.savefig('D:\\績效圖/'+ST+'_預測未來'+str(int(n_out/6))+'小時(Training)(not_process)(TCN_4).png')\n",
    "    plt.show()\n",
    "    plt.close()\n",
    "    plt.figure(figsize=(5,5))\n",
    "    plt.plot(test_yy.T[number])\n",
    "    plt.plot(pred_test_data.T[number])\n",
    "    plt.title('Testing',fontproperties=\"SimSun\",fontsize=24)\n",
    "    plt.savefig('D:\\績效圖/'+ST+'_預測未來'+str(int(n_out/6))+'小時(Testing)(not_process)(TCN_4).png')\n",
    "    plt.show()\n",
    "    plt.close()"
   ]
  },
  {
   "cell_type": "code",
   "execution_count": null,
   "id": "37c9e865",
   "metadata": {},
   "outputs": [],
   "source": [
    "make_plot(image[0],transfor_act,image[2],transfor_pred)"
   ]
  },
  {
   "cell_type": "code",
   "execution_count": null,
   "id": "d3dc343e",
   "metadata": {},
   "outputs": [],
   "source": [
    "# RMSE公式：np.sqrt(np.mean((預測值-實際值)^2))\n",
    "# MAPE公式：100*(np.mean(abs((預測值-實際值)/實際值)))\n",
    "\n",
    "rmse = []\n",
    "mape = []\n",
    "\n",
    "for i in range(transfor_act.shape[0]):\n",
    "    for j in range(transfor_act.shape[1]):\n",
    "        rmse.append((transfor_pred[i][j]-transfor_act[i][j])**2)\n",
    "        if transfor_act[i][j] == 0:\n",
    "            mape.append(abs(transfor_pred[i][j]-transfor_act[i][j]))\n",
    "        else:\n",
    "            mape.append(abs((transfor_pred[i][j]-transfor_act[i][j])/transfor_act[i][j]))\n",
    "            \n",
    "rmse = np.sqrt(np.mean(rmse))\n",
    "mape = np.mean(mape)*100\n",
    "\n",
    "print('RMSE:'+str(rmse))\n",
    "print('MAPE:'+str(mape))"
   ]
  },
  {
   "cell_type": "code",
   "execution_count": null,
   "id": "a051bf55",
   "metadata": {},
   "outputs": [],
   "source": []
  }
 ],
 "metadata": {
  "kernelspec": {
   "display_name": "Python 3 (ipykernel)",
   "language": "python",
   "name": "python3"
  },
  "language_info": {
   "codemirror_mode": {
    "name": "ipython",
    "version": 3
   },
   "file_extension": ".py",
   "mimetype": "text/x-python",
   "name": "python",
   "nbconvert_exporter": "python",
   "pygments_lexer": "ipython3",
   "version": "3.9.7"
  }
 },
 "nbformat": 4,
 "nbformat_minor": 5
}
